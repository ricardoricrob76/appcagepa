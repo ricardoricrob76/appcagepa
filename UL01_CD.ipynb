{
  "nbformat": 4,
  "nbformat_minor": 0,
  "metadata": {
    "colab": {
      "provenance": [],
      "authorship_tag": "ABX9TyNw7wQNNZfb5UTZVc1B++Yi",
      "include_colab_link": true
    },
    "kernelspec": {
      "name": "python3",
      "display_name": "Python 3"
    },
    "language_info": {
      "name": "python"
    }
  },
  "cells": [
    {
      "cell_type": "markdown",
      "metadata": {
        "id": "view-in-github",
        "colab_type": "text"
      },
      "source": [
        "<a href=\"https://colab.research.google.com/github/ricardoricrob76/appcagepa/blob/main/UL01_CD.ipynb\" target=\"_parent\"><img src=\"https://colab.research.google.com/assets/colab-badge.svg\" alt=\"Open In Colab\"/></a>"
      ]
    },
    {
      "cell_type": "code",
      "execution_count": 1,
      "metadata": {
        "id": "zgYK32mB0U3f"
      },
      "outputs": [],
      "source": [
        "# Curso de Ciência de Dados\n",
        "# Autor: Ricardo Roberto de Lima - Data 21/02/2025"
      ]
    },
    {
      "cell_type": "code",
      "source": [
        "# calculando dois numeeros\n",
        "a = 25\n",
        "b = 54\n",
        "c = (a * b)"
      ],
      "metadata": {
        "id": "yKPsirDL2D6u"
      },
      "execution_count": 2,
      "outputs": []
    },
    {
      "cell_type": "code",
      "source": [
        "print(\"Valor de a\", a)"
      ],
      "metadata": {
        "colab": {
          "base_uri": "https://localhost:8080/"
        },
        "id": "vAVv9WBc2TH4",
        "outputId": "c0b0711c-4da5-4c73-ff20-62097a50b12b"
      },
      "execution_count": 3,
      "outputs": [
        {
          "output_type": "stream",
          "name": "stdout",
          "text": [
            "Valor de a 25\n"
          ]
        }
      ]
    },
    {
      "cell_type": "code",
      "source": [
        "print(\"Valor de b\", b)"
      ],
      "metadata": {
        "colab": {
          "base_uri": "https://localhost:8080/"
        },
        "id": "u2gnucI12ads",
        "outputId": "81a72143-5cf8-4330-f2cc-fd7cb2f9dc20"
      },
      "execution_count": 4,
      "outputs": [
        {
          "output_type": "stream",
          "name": "stdout",
          "text": [
            "Valor de b 54\n"
          ]
        }
      ]
    },
    {
      "cell_type": "code",
      "source": [
        "print(\"Valor de c\", c)"
      ],
      "metadata": {
        "colab": {
          "base_uri": "https://localhost:8080/"
        },
        "id": "3JCQWRt22gBi",
        "outputId": "20b5f34f-1dee-44f4-e271-b6cc1f25b4d9"
      },
      "execution_count": 5,
      "outputs": [
        {
          "output_type": "stream",
          "name": "stdout",
          "text": [
            "Valor de c 1350\n"
          ]
        }
      ]
    },
    {
      "cell_type": "code",
      "source": [],
      "metadata": {
        "id": "duHpUef52jAi"
      },
      "execution_count": null,
      "outputs": []
    }
  ]
}